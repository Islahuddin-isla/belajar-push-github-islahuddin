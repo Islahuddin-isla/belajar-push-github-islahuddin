{
 "cells": [
  {
   "cell_type": "markdown",
   "metadata": {},
   "source": [
    "# Push Yuk\n",
    "\n",
    "\n",
    "1. `git clone <link ssh>` -> untuk mendownload/ngepull repo di github ke lokal.\n",
    "2. `cd <nama repo lokal>` -> untuk menuju ke path repo lokal.\n",
    "3. Pindahin file yang ingin di push/buat file assignment di dalam repo lokal tsb.\n",
    "\n",
    "Setelah kalian yakin tugas kalian di hari tsb:\n",
    "\n",
    "4. `git status` -> harusnya file yang ingin di push tsb(no.3) itu ada /terdeteksi dan berwarna merah.\n",
    "5. `git add .` -> untuk membuat file tsb masuk ke dalam stage mode.\n",
    "6. `git status` -> harusnya file tsb berubah warna menjadi hijau (sudah dalam stage mode)\n",
    "7. `git commit -m \"final_push\"` -> ini adalah message untuk version ke brp (VCS)\n",
    "8. `git push` -> untuk push/upload file ke repo github.\n",
    "9. Final check di repo lokal, make sure file sudah berhasil terupload sesuai dengan yg diinginkan (final)\n",
    "10. `git checkout <no version>` -> untuk melihat versi sebelum/sesudah"
   ]
  },
  {
   "cell_type": "markdown",
   "metadata": {},
   "source": [
    "<img src=https://east.vc/wp-content/uploads/2020/01/hacktiv8-1.png>"
   ]
  },
  {
   "cell_type": "markdown",
   "metadata": {},
   "source": [
    "# heading\n",
    "## sub heading\n",
    "### sub sub heading\n",
    "###### sub x6 heading\n",
    "\n",
    "- Gunakan ** untuk bold  \n",
    "**bold**<br/>\n",
    "\n",
    "- Gunakan * untuk italic  \n",
    "*italic*<br/>\n",
    "\n",
    "- Gunakan *** untuk bold italic  \n",
    "***bold_italic***\n",
    "\n",
    "Gunakan  $ untuk rumus matematika:   \n",
    "\n",
    "$ y = ax^2 + b$  \n"
   ]
  },
  {
   "cell_type": "markdown",
   "metadata": {},
   "source": [
    "Gunakan triple dash (-)"
   ]
  },
  {
   "cell_type": "markdown",
   "metadata": {},
   "source": [
    "---"
   ]
  },
  {
   "cell_type": "markdown",
   "metadata": {},
   "source": [
    "Bullet point max 3 deep/kedalaman"
   ]
  },
  {
   "cell_type": "markdown",
   "metadata": {},
   "source": [
    "RMT_035:\n",
    "1. Ali\n",
    "2. Fahri:\n",
    "   - Isla\n",
    "   - Via:\n",
    "      - Gaby\n",
    "      - Harun:\n",
    "- Achsan\n",
    "- Rafa"
   ]
  },
  {
   "cell_type": "markdown",
   "metadata": {},
   "source": [
    "Pakai []() untuk isi nama dan link"
   ]
  },
  {
   "cell_type": "markdown",
   "metadata": {},
   "source": [
    "Referensi/source: [click here!](https://www.anaconda.com/download)"
   ]
  },
  {
   "cell_type": "markdown",
   "metadata": {},
   "source": [
    "source: https://www.anaconda.com/download"
   ]
  },
  {
   "cell_type": "markdown",
   "metadata": {},
   "source": [
    "Pake ini untuk gambar <img src =>. atau langsung ctrl + c ctrl + v"
   ]
  },
  {
   "cell_type": "markdown",
   "metadata": {},
   "source": [
    "Gunakan petik untuk menuliskan syntax:  \n",
    "`print('Hello World')`\n",
    "\n",
    "Gunakan 3petik untuk menuliskan syntax specific based on program language nya:\n",
    "```sql\n",
    "Select * from tables\n",
    "```\n",
    "\n",
    "Select * from tables  \n",
    "\n",
    "contoh di python:  \n",
    "```py\n",
    "import warnings\n",
    "warnings.filterwarnings(\"ignore\")\n",
    "```\n",
    "\n",
    "import warnings  \n",
    "warnings.filterwarnings(\"ignore\")"
   ]
  },
  {
   "cell_type": "code",
   "execution_count": 2,
   "metadata": {},
   "outputs": [],
   "source": [
    "import warnings\n",
    "warnings.filterwarnings(\"ignore\")"
   ]
  },
  {
   "cell_type": "code",
   "execution_count": 6,
   "metadata": {},
   "outputs": [
    {
     "name": "stdout",
     "output_type": "stream",
     "text": [
      "hello world\n"
     ]
    }
   ],
   "source": [
    "print('hello world')"
   ]
  },
  {
   "cell_type": "code",
   "execution_count": 1,
   "metadata": {},
   "outputs": [
    {
     "data": {
      "text/plain": [
       "2"
      ]
     },
     "execution_count": 1,
     "metadata": {},
     "output_type": "execute_result"
    }
   ],
   "source": [
    "1 + 1"
   ]
  }
 ],
 "metadata": {
  "kernelspec": {
   "display_name": "base",
   "language": "python",
   "name": "python3"
  },
  "language_info": {
   "codemirror_mode": {
    "name": "ipython",
    "version": 3
   },
   "file_extension": ".py",
   "mimetype": "text/x-python",
   "name": "python",
   "nbconvert_exporter": "python",
   "pygments_lexer": "ipython3",
   "version": "3.10.9"
  }
 },
 "nbformat": 4,
 "nbformat_minor": 2
}
